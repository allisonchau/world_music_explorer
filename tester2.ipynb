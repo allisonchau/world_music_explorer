{
 "cells": [
  {
   "cell_type": "code",
   "execution_count": 1,
   "metadata": {
    "collapsed": false
   },
   "outputs": [],
   "source": [
    "# All the necessary libraries\n",
    "\n",
    "import echonestkeys as secret\n",
    "import json\n",
    "import urllib2\n",
    "import time \n",
    "\n",
    "from bs4 import BeautifulSoup\n",
    "import requests\n",
    "import html5lib\n",
    "\n",
    "import pandas as pd\n",
    "import numpy as np\n",
    "\n",
    "from fuzzywuzzy import fuzz, process"
   ]
  },
  {
   "cell_type": "code",
   "execution_count": 2,
   "metadata": {
    "collapsed": true
   },
   "outputs": [],
   "source": [
    "# Somewhere to start and get a good number of artists\n",
    "def get_soup(url):\n",
    "    response = requests.get(url) \n",
    "    soup = None\n",
    "    if response.status_code == 200:\n",
    "        page = response.text\n",
    "        soup = BeautifulSoup(page, 'html5lib')\n",
    "    else:\n",
    "        print 'Unresponsive. Trying Again...'\n",
    "        time.sleep(0.5)\n",
    "        return get_soup(url)\n",
    "    return soup\n"
   ]
  },
  {
   "cell_type": "code",
   "execution_count": 3,
   "metadata": {
    "collapsed": false
   },
   "outputs": [],
   "source": [
    "\n",
    "def make_albumdf(year):\n",
    "    soup = get_soup('https://en.wikipedia.org/wiki/List_of_%d_albums' % (year))\n",
    "    tables = soup.find_all('table', attrs={'wikitable'})\n",
    "    df = pd.DataFrame()\n",
    "    for table in tables:\n",
    "        date = ' '.join(table.find('td').text.splitlines())\n",
    "        header = False\n",
    "        for tr in table('tr'):\n",
    "            \n",
    "            first = tr.find('td')\n",
    "            text = first.text.splitlines() if (first is not None) else 'heading'\n",
    "            if text is not 'heading':\n",
    "                row = []\n",
    "                if len(text) == 2:\n",
    "                    date = ' '.join(text)\n",
    "                    row.append(date)\n",
    "                    for cell in tr.find_all('td'):\n",
    "                        if ' '.join(cell.text.splitlines())!=date:\n",
    "                            row.append(cell.text)\n",
    "                else:\n",
    "                    row.append(date)\n",
    "                    for cell in tr.find_all('td'):\n",
    "                        row.append(cell.text)\n",
    "                \n",
    "                if len(row)==7:\n",
    "                    row.pop()\n",
    "                    df = df.append(pd.Series(row),ignore_index=True)\n",
    "    return df\n"
   ]
  },
  {
   "cell_type": "code",
   "execution_count": 4,
   "metadata": {
    "collapsed": true
   },
   "outputs": [],
   "source": [
    "def get_json(url):\n",
    "    response = requests.get(url)\n",
    "    if response.status_code==200:\n",
    "        return json.loads(response.text)\n",
    "    else:\n",
    "        print 'Rate Limited url: %s' % url\n",
    "        return None\n",
    "\n",
    "def fuzzy_match(a, names):\n",
    "    if a == names[0]:\n",
    "        return 0\n",
    "    if a.lower() == names[0].lower():\n",
    "        return 0\n",
    "    best = max([(fuzz.ratio(a, n),n) for n in names])\n",
    "    if best[0]>0.7:\n",
    "        return names.index(best[1])\n",
    "    else:\n",
    "        return -1\n",
    "        "
   ]
  },
  {
   "cell_type": "code",
   "execution_count": 5,
   "metadata": {
    "collapsed": true
   },
   "outputs": [],
   "source": [
    "# Some artists to work with\n",
    "artists=sorted(set(make_albumdf(2013)[1]))"
   ]
  },
  {
   "cell_type": "code",
   "execution_count": 14,
   "metadata": {
    "collapsed": false
   },
   "outputs": [],
   "source": [
    "# Spotify search for one artist\n",
    "\n",
    "def get_spotify_artist(artist):\n",
    "    q = '+'.join(artist.split()).strip()\n",
    "    url = \"https://api.spotify.com/v1/search?q=%s&type=artist\" % q\n",
    "    results = get_json(url)['artists']['items']\n",
    "    if results != []:\n",
    "        names = [r['name'] for  r in results]\n",
    "        index = fuzzy_match(artist, names)\n",
    "        if index != -1:\n",
    "            return results[index]['id'] #id\n",
    "    else:\n",
    "        return None\n",
    "    \n",
    "        \n",
    "echo_limit = 0\n",
    "           \n",
    "def get_echo_artist(artist):\n",
    "    q = '+'.join(artist.split()).strip()\n",
    "    url = 'http://developer.echonest.com/api/v4/artist/search?api_key=%s&\\\n",
    "format=json&name=%s' % (secret.apikey(), q)\n",
    "    \n",
    "    global echo_limit\n",
    "    echo_limit += 1\n",
    "    if echo_limit%119 == 0:\n",
    "        time.sleep(60)\n",
    "\n",
    "    response = get_json(url)['response']\n",
    "    results = response['artists']\n",
    "    if results != []:\n",
    "        names = [r['name'] for r in results]\n",
    "        index = fuzzy_match(artist, names)\n",
    "        if index != -1:\n",
    "            return results[index]['id']\n",
    "    else:\n",
    "        return None\n"
   ]
  },
  {
   "cell_type": "code",
   "execution_count": 7,
   "metadata": {
    "collapsed": false
   },
   "outputs": [],
   "source": [
    "def get_albums(artist_id):\n",
    "    url = 'https://api.spotify.com/v1/artists/%s/albums?album_type=album&limit=50' % artist_id\n",
    "    albums = get_json(url)\n",
    "    if albums['items']==[]:\n",
    "        print 'No albums for %s' % artist_id\n",
    "        return None\n",
    "    \n",
    "    album_names = [album['name'] for album in albums['items']]\n",
    "    album_ids_dup = np.array([album['id'] for album in albums['items']])\n",
    "\n",
    "    inds = [album_names.index(a) for a in set(album_names)]\n",
    "    album_ids = album_ids_dup[inds]\n",
    "    return album_ids"
   ]
  },
  {
   "cell_type": "code",
   "execution_count": 20,
   "metadata": {
    "collapsed": false
   },
   "outputs": [],
   "source": [
    "def get_tracks(album_id):\n",
    "    url = 'https://api.spotify.com/v1/albums/%s/tracks?limit=50' % album_id\n",
    "    tracks = get_json(url)\n",
    "    return [t['uri'] for t in tracks['items']]\n"
   ]
  },
  {
   "cell_type": "code",
   "execution_count": 132,
   "metadata": {
    "collapsed": false
   },
   "outputs": [
    {
     "data": {
      "text/plain": [
       "u'spotify:track:1FeOrTzQulW3SqdIlGfjKe'"
      ]
     },
     "execution_count": 132,
     "metadata": {},
     "output_type": "execute_result"
    }
   ],
   "source": [
    "get_tracks(get_albums(get_artist(artists[0]))[0])[0]"
   ]
  },
  {
   "cell_type": "code",
   "execution_count": 10,
   "metadata": {
    "collapsed": false
   },
   "outputs": [
    {
     "name": "stdout",
     "output_type": "stream",
     "text": [
      "\n",
      "\n",
      "\n",
      "\n",
      "spotify:  98\n",
      "echo:  98 Degrees\n",
      "33\n",
      "100\n",
      "90\n",
      "\n",
      "\n",
      "\n",
      "\n",
      "\n",
      "\n",
      "\n",
      "\n",
      "\n",
      "\n",
      "\n",
      "\n",
      "spotify:  A$AP Ferg\n",
      "echo:  ASAP Ferg\n",
      "89\n",
      "88\n",
      "89\n",
      "\n",
      "\n",
      "\n",
      "\n",
      "\n",
      "\n",
      "\n",
      "\n",
      "\n",
      "\n",
      "\n",
      "\n",
      "\n",
      "\n",
      "\n",
      "\n",
      "\n",
      "\n",
      "\n",
      "\n",
      "\n",
      "\n",
      "\n",
      "\n",
      "\n",
      "\n",
      "\n",
      "\n",
      "\n",
      "\n",
      "\n",
      "\n",
      "\n",
      "\n",
      "\n",
      "\n",
      "\n",
      "\n",
      "\n",
      "\n",
      "\n",
      "\n",
      "\n",
      "\n",
      "\n",
      "\n",
      "\n",
      "\n",
      "\n",
      "\n",
      "\n",
      "\n",
      "\n",
      "\n",
      "\n",
      "\n",
      "\n",
      "\n",
      "\n",
      "\n",
      "\n",
      "\n",
      "\n",
      "\n",
      "\n",
      "\n",
      "\n",
      "\n",
      "\n",
      "\n",
      "\n",
      "\n",
      "\n",
      "\n",
      "\n",
      "\n",
      "\n",
      "\n",
      "\n",
      "\n",
      "\n",
      "\n",
      "\n",
      "\n",
      "spotify:  Babasonicos\n",
      "echo:  Babasónicos\n",
      "91\n",
      "90\n",
      "95\n",
      "\n",
      "\n",
      "\n",
      "\n",
      "\n",
      "\n",
      "\n",
      "\n",
      "\n",
      "\n",
      "\n",
      "\n",
      "\n",
      "\n",
      "\n",
      "\n",
      "\n",
      "\n",
      "\n",
      "\n",
      "\n",
      "\n",
      "artist : Ben Harper and Charlie Musselwhite\n",
      "spotify: None\n",
      "\n",
      "\n",
      "\n",
      "\n",
      "\n",
      "\n",
      "\n",
      "\n",
      "\n",
      "\n",
      "\n",
      "\n",
      "\n",
      "\n",
      "\n",
      "\n",
      "\n",
      "\n",
      "\n",
      "\n",
      "\n",
      "\n",
      "\n",
      "\n",
      "\n",
      "\n",
      "\n",
      "\n",
      "\n",
      "\n",
      "\n",
      "\n",
      "\n",
      "\n",
      "\n",
      "\n",
      "\n",
      "\n",
      "\n",
      "\n",
      "\n",
      "\n",
      "\n",
      "\n",
      "\n",
      "\n",
      "\n",
      "\n",
      "\n",
      "\n",
      "\n",
      "\n",
      "\n",
      "\n",
      "\n",
      "\n",
      "\n",
      "\n",
      "\n",
      "\n",
      "\n",
      "\n",
      "\n",
      "\n",
      "\n",
      "\n",
      "\n",
      "\n",
      "spotify:  Brown Eyed Girls\n",
      "echo:  Brown Eyed Girls&SeeYa\n",
      "84\n",
      "100\n",
      "95\n",
      "\n",
      "\n",
      "\n",
      "\n",
      "\n",
      "\n",
      "\n",
      "\n",
      "\n",
      "\n",
      "\n",
      "\n",
      "\n",
      "\n",
      "\n",
      "\n",
      "\n",
      "\n",
      "\n",
      "\n",
      "\n",
      "\n",
      "\n",
      "\n",
      "\n",
      "\n",
      "\n",
      "\n",
      "\n",
      "\n",
      "\n",
      "\n",
      "\n",
      "\n",
      "Rate Limited url: http://developer.echonest.com/api/v4/artist/search?api_key=0GGBLPK4OHMQIJYQ2&format=json&name=Chase+&+Status\n"
     ]
    },
    {
     "ename": "TypeError",
     "evalue": "'NoneType' object has no attribute '__getitem__'",
     "output_type": "error",
     "traceback": [
      "\u001b[0;31m---------------------------------------------------------------------------\u001b[0m",
      "\u001b[0;31mTypeError\u001b[0m                                 Traceback (most recent call last)",
      "\u001b[0;32m<ipython-input-10-3f6056c0a695>\u001b[0m in \u001b[0;36m<module>\u001b[0;34m()\u001b[0m\n\u001b[1;32m      3\u001b[0m \u001b[0;31m#     try:\u001b[0m\u001b[0;34m\u001b[0m\u001b[0;34m\u001b[0m\u001b[0m\n\u001b[1;32m      4\u001b[0m     \u001b[0msp\u001b[0m \u001b[0;34m=\u001b[0m \u001b[0mget_spotify_artist\u001b[0m\u001b[0;34m(\u001b[0m\u001b[0martist\u001b[0m\u001b[0;34m)\u001b[0m\u001b[0;34m\u001b[0m\u001b[0m\n\u001b[0;32m----> 5\u001b[0;31m     \u001b[0mec\u001b[0m \u001b[0;34m=\u001b[0m \u001b[0mget_echo_artist\u001b[0m\u001b[0;34m(\u001b[0m\u001b[0martist\u001b[0m\u001b[0;34m)\u001b[0m\u001b[0;34m\u001b[0m\u001b[0m\n\u001b[0m\u001b[1;32m      6\u001b[0m     \u001b[0;32mif\u001b[0m \u001b[0mec\u001b[0m \u001b[0;34m!=\u001b[0m \u001b[0mNone\u001b[0m\u001b[0;34m:\u001b[0m\u001b[0;34m\u001b[0m\u001b[0m\n\u001b[1;32m      7\u001b[0m         \u001b[0;32mif\u001b[0m \u001b[0msp\u001b[0m \u001b[0;34m!=\u001b[0m \u001b[0mNone\u001b[0m\u001b[0;34m:\u001b[0m\u001b[0;34m\u001b[0m\u001b[0m\n",
      "\u001b[0;32m<ipython-input-6-7a4be59d3ca1>\u001b[0m in \u001b[0;36mget_echo_artist\u001b[0;34m(artist)\u001b[0m\n\u001b[1;32m     25\u001b[0m         \u001b[0mtime\u001b[0m\u001b[0;34m.\u001b[0m\u001b[0msleep\u001b[0m\u001b[0;34m(\u001b[0m\u001b[0;36m60\u001b[0m\u001b[0;34m)\u001b[0m\u001b[0;34m\u001b[0m\u001b[0m\n\u001b[1;32m     26\u001b[0m \u001b[0;34m\u001b[0m\u001b[0m\n\u001b[0;32m---> 27\u001b[0;31m     \u001b[0mresponse\u001b[0m \u001b[0;34m=\u001b[0m \u001b[0mget_json\u001b[0m\u001b[0;34m(\u001b[0m\u001b[0murl\u001b[0m\u001b[0;34m)\u001b[0m\u001b[0;34m[\u001b[0m\u001b[0;34m'response'\u001b[0m\u001b[0;34m]\u001b[0m\u001b[0;34m\u001b[0m\u001b[0m\n\u001b[0m\u001b[1;32m     28\u001b[0m     \u001b[0mresults\u001b[0m \u001b[0;34m=\u001b[0m \u001b[0mresponse\u001b[0m\u001b[0;34m[\u001b[0m\u001b[0;34m'artists'\u001b[0m\u001b[0;34m]\u001b[0m\u001b[0;34m\u001b[0m\u001b[0m\n\u001b[1;32m     29\u001b[0m     \u001b[0;32mif\u001b[0m \u001b[0mresults\u001b[0m \u001b[0;34m!=\u001b[0m \u001b[0;34m[\u001b[0m\u001b[0;34m]\u001b[0m\u001b[0;34m:\u001b[0m\u001b[0;34m\u001b[0m\u001b[0m\n",
      "\u001b[0;31mTypeError\u001b[0m: 'NoneType' object has no attribute '__getitem__'"
     ]
    }
   ],
   "source": [
    "# EchoNest search for same artist\n",
    "for artist in artists:\n",
    "#     try:\n",
    "    sp = get_spotify_artist(artist)\n",
    "    ec = get_echo_artist(artist)\n",
    "    if ec != None:\n",
    "        if sp != None:\n",
    "            if sp.lower() != ec.lower():\n",
    "                print 'spotify: ',sp\n",
    "                print 'echo: ',ec\n",
    "                print fuzz.ratio(sp, ec)\n",
    "                print fuzz.partial_ratio(sp,ec)\n",
    "                print fuzz.WRatio(sp, ec)\n",
    "                print '\\n'\n",
    "        else:\n",
    "            print 'artist :',artist\n",
    "            print 'spotify: None'\n",
    "    else:\n",
    "        print 'artist :',artist\n",
    "        print 'echo: none'\n",
    "    print '\\n'\n",
    "#     except:\n",
    "#         print artist\n",
    "#         print '\\n'"
   ]
  },
  {
   "cell_type": "code",
   "execution_count": 15,
   "metadata": {
    "collapsed": false
   },
   "outputs": [
    {
     "data": {
      "text/plain": [
       "u'ARPVJVZ12FE085D726'"
      ]
     },
     "execution_count": 15,
     "metadata": {},
     "output_type": "execute_result"
    }
   ],
   "source": [
    "get_echo_artist('2 chainz')"
   ]
  },
  {
   "cell_type": "code",
   "execution_count": 18,
   "metadata": {
    "collapsed": false
   },
   "outputs": [
    {
     "data": {
      "text/plain": [
       "array([u'2ZnzBwKw4e2SHpGvOTWnj4', u'2LFT0OnfZzsvjcU7bNMM7W',\n",
       "       u'6WQzwx2a6Wq6rDoEU3TaNE', u'6czdbbMtGbAkZ6ud2OMTcg',\n",
       "       u'6dYDqMHA4COCFC0TfCiUCj'], \n",
       "      dtype='<U22')"
      ]
     },
     "execution_count": 18,
     "metadata": {},
     "output_type": "execute_result"
    }
   ],
   "source": [
    "get_albums(get_spotify_artist('Ariana Grande'))"
   ]
  },
  {
   "cell_type": "code",
   "execution_count": 21,
   "metadata": {
    "collapsed": false
   },
   "outputs": [
    {
     "data": {
      "text/plain": [
       "[u'spotify:track:5SmXEPnevlRjBPWBG7oKIi',\n",
       " u'spotify:track:6NmCCgnQcxKHPOAKgd9Nth',\n",
       " u'spotify:track:47rzxY9wSpomHE1gT94jIT',\n",
       " u'spotify:track:7JmIjOsRish3vYBSLTytEC',\n",
       " u'spotify:track:0CN72fWya38TPEQzrsr27w',\n",
       " u'spotify:track:1FSfCzJd8aSQ0nqTSbN4PO',\n",
       " u'spotify:track:2CcQDI2IDhHbmBIFup58JE',\n",
       " u'spotify:track:0S4RKPbRDA72tvKwVdXQqe',\n",
       " u'spotify:track:6d8XhbAw4IoKPnVD07Sb9b',\n",
       " u'spotify:track:442j8VxaB60dWf9cBFuX5w',\n",
       " u'spotify:track:6AviHKu3ydzAePBmzEi62v',\n",
       " u'spotify:track:0vyQdRbRJRRY8GGuM8eVVI']"
      ]
     },
     "execution_count": 21,
     "metadata": {},
     "output_type": "execute_result"
    }
   ],
   "source": [
    "get_tracks('6czdbbMtGbAkZ6ud2OMTcg')"
   ]
  },
  {
   "cell_type": "code",
   "execution_count": null,
   "metadata": {
    "collapsed": false
   },
   "outputs": [],
   "source": [
    "       \n",
    "echo_limit = 0\n",
    "def rate_limiter():\n",
    "    global echo_limit\n",
    "    echo_limit += 1\n",
    "    if echo_limit%119 == 0:\n",
    "        time.sleep(60)\n",
    "\n",
    "           \n",
    "def get_echo_artist(artist):\n",
    "    q = '+'.join(artist.split()).strip()\n",
    "    url = 'http://developer.echonest.com/api/v4/artist/search?api_key=%s&\\\n",
    "format=json&name=%s' % (secret.apikey(), q)\n",
    "    rate_limiter()\n",
    "    response = get_json(url)['response']\n",
    " \n",
    "    try:\n",
    "        results = response['artists']\n",
    "    except:\n",
    "        print response['status']['message']\n",
    "        pass\n",
    "        \n",
    "    if results != []:\n",
    "        names = [r['name'] for r in results]\n",
    "        index = fuzzy_match(artist, names)\n",
    "        if index != -1:\n",
    "            return results[index]['name']\n",
    "    else:\n",
    "        return None\n",
    "\n",
    "        "
   ]
  },
  {
   "cell_type": "code",
   "execution_count": 22,
   "metadata": {
    "collapsed": true
   },
   "outputs": [],
   "source": [
    "# [u'genres',\n",
    "#  u'name',\n",
    "#  u'external_urls',\n",
    "#  u'popularity',\n",
    "#  u'uri',\n",
    "#  u'href',\n",
    "#  u'followers',\n",
    "#  u'images',\n",
    "#  u'type',\n",
    "#  u'id']\n",
    "\n",
    "\n",
    "\n",
    "# [u'name',\n",
    "#  u'external_urls',\n",
    "#  u'uri',\n",
    "#  u'explicit',\n",
    "#  u'preview_url',\n",
    "#  u'track_number',\n",
    "#  u'disc_number',\n",
    "#  u'href',\n",
    "#  u'artists',\n",
    "#  u'duration_ms',\n",
    "#  u'type',\n",
    "#  u'id',\n",
    "#  u'available_markets']"
   ]
  },
  {
   "cell_type": "code",
   "execution_count": null,
   "metadata": {
    "collapsed": true
   },
   "outputs": [],
   "source": []
  }
 ],
 "metadata": {
  "kernelspec": {
   "display_name": "Python 2",
   "language": "python",
   "name": "python2"
  },
  "language_info": {
   "codemirror_mode": {
    "name": "ipython",
    "version": 2
   },
   "file_extension": ".py",
   "mimetype": "text/x-python",
   "name": "python",
   "nbconvert_exporter": "python",
   "pygments_lexer": "ipython2",
   "version": "2.7.10"
  }
 },
 "nbformat": 4,
 "nbformat_minor": 0
}
