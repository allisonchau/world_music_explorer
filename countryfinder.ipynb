{
 "cells": [
  {
   "cell_type": "code",
   "execution_count": 1,
   "metadata": {
    "collapsed": true
   },
   "outputs": [],
   "source": [
    "\n",
    "import psycopg2\n",
    "import echonestkeys as secret\n",
    "import json\n",
    "import urllib2\n",
    "import time \n",
    "import requests\n",
    "\n",
    "import pandas as pd\n",
    "import numpy as np\n",
    "from collections import Counter\n",
    "\n",
    "from fuzzywuzzy import fuzz, process\n",
    "from nltk.tag import pos_tag\n",
    "from nltk.tokenize import word_tokenize\n",
    "from nltk.tokenize import sent_tokenize\n",
    "\n",
    "from scraper import country_adjectives\n",
    "from scraper import putumayo_artists\n",
    "from scraper import artists_wikipedia\n"
   ]
  },
  {
   "cell_type": "code",
   "execution_count": 371,
   "metadata": {
    "collapsed": false
   },
   "outputs": [],
   "source": [
    "states = [u'WA', u'WI', u'WV', u'FL', u'WY', u'NH', u'NJ', u'NM', u'NA', u'NC', u'ND', u'NE', u'NY', u'RI', u'NV',\n",
    "          u'GU', u'CO', u'CA', u'GA', u'CT', u'OK', u'OH', u'KS', u'SC', u'KY', u'OR', u'SD', u'DE', u'DC', u'HI',\n",
    "          u'PR', u'TX', u'LA', u'TN', u'PA', u'VA', u'VI', u'AK', u'AL', u'AS', u'AR', u'VT', u'IL', u'IN', u'IA', \n",
    "          u'AZ', u'ID', u'ME', u'MD', u'MA', u'UT', u'MO', u'MN', u'MI', u'MT', u'MP', u'MS', u'Washington', \n",
    "          u'Wisconsin', u'West Virginia', u'Florida', u'Wyoming', u'New Hampshire', u'New Jersey', u'New Mexico', \n",
    "          u'National', u'North Carolina', u'North Dakota', u'Nebraska', u'New York', u'Rhode Island', u'Nevada', \n",
    "          u'Guam', u'Colorado', u'California', u'Georgia', u'Connecticut', u'Oklahoma', u'Ohio', u'Kansas', \n",
    "          u'South Carolina', u'Kentucky', u'Oregon', u'South Dakota', u'Delaware', u'District of Columbia', u'Hawaii', \n",
    "          u'Puerto Rico', u'Texas', u'Louisiana', u'Tennessee', u'Pennsylvania', u'Virginia', u'Virgin Islands', \n",
    "          u'Alaska', u'Alabama', u'American Samoa', u'Arkansas', u'Vermont', u'Illinois', u'Indiana', u'Iowa', \n",
    "          u'Arizona', u'Idaho', u'Maine', u'Maryland', u'Massachusetts', u'Utah', u'Missouri', u'Minnesota', \n",
    "          u'Michigan', u'Montana', u'Northern Mariana Islands', u'Mississippi']\n",
    "\n",
    "all_countries = json.loads(requests.get(\"https://restcountries.eu/rest/v1/all\").text)\n",
    "country_names = {}\n",
    "for country in all_countries:\n",
    "    \n",
    "    name = country['name']\n",
    "    latlng = country['latlng']\n",
    "    alt = country['altSpellings']\n",
    "    demonym = country['demonym']\n",
    "    native = country['nativeName']\n",
    "    if latlng != []:\n",
    "        if demonym != '':\n",
    "            names = filter(None, alt)\n",
    "            names.append(name)\n",
    "            names.append(native)\n",
    "            names.append(demonym)\n",
    "            for n in names:\n",
    "                if n not in country_names.keys():\n",
    "                    country_names[n] = (name, latlng)\n",
    "                    \n",
    "for s in states:\n",
    "    country_names[s] = country_names['United States']\n",
    "\n",
    "\n",
    "adjectives = country_adjectives()\n",
    "\n",
    "for adj in adjectives.keys():\n",
    "    commsplit = adj.split(', ')\n",
    "    if len(commsplit) == 2:\n",
    "        offname = commsplit[1]+' '+commsplit[0]\n",
    "    else:\n",
    "        offname = adj\n",
    "    if offname in country_names.keys():\n",
    "        for val in adjectives[adj]:\n",
    "            if val.strip() not in country_names.keys():\n",
    "                country_names[val.strip()] = country_names[offname]\n",
    "\n",
    "country_names['England']=country_names['UK']\n",
    "country_names['English']=country_names['UK']\n",
    "country_names['Scotland']=country_names['UK']\n",
    "country_names['Northern Ireland']=country_names['UK']\n",
    "country_names['Wales']=country_names['UK']\n",
    "country_names['Ireland']=country_names['Republic of Ireland']\n",
    "country_names['Svalbard']=country_names['Norway']\n",
    "country_names['Jan Mayen']=country_names['Norway']\n",
    "country_names['Montreal']=country_names['Canada']\n",
    "likelyNext = {}\n",
    "for c in country_names.keys():\n",
    "    words = word_tokenize(c)\n",
    "    if len(words)>1:\n",
    "        pos = pos_tag(words)\n",
    "        pronouns = [a for (a, b) in pos if b == 'NNP' or b =='NNPS' or b == 'NN' or b == 'JJ']\n",
    "        len_nnp = len(pronouns)\n",
    "        if len_nnp == 1:\n",
    "            if pronouns[0] not in country_keys:\n",
    "                country_names[pronouns[0]]=country_names[c]\n",
    "        elif len_nnp > 1:          \n",
    "            country_names[' '.join(pronouns)] = country_names[c]\n",
    "            likelyNext[' '.join(pronouns)]=[]\n",
    "            for i in range(1,len_nnp):\n",
    "                lkey = ' '.join(pronouns[:i])\n",
    "                lval = pronouns[i:]\n",
    "                if lkey in likelyNext.keys():\n",
    "                    newval = likelyNext[lkey][:]\n",
    "                    for n in lval:\n",
    "                        newval.append(n)\n",
    "                    likelyNext[lkey]=newval\n",
    "                else:\n",
    "                    likelyNext[lkey]=lval\n",
    "\n",
    "country_keys = country_names.keys()\n",
    "likely_keys = likelyNext.keys()\n"
   ]
  },
  {
   "cell_type": "code",
   "execution_count": 454,
   "metadata": {
    "collapsed": false
   },
   "outputs": [],
   "source": [
    "def get_json(url):\n",
    "    response = requests.get(url)\n",
    "    if response.status_code==200:\n",
    "        return json.loads(response.text)\n",
    "    else:\n",
    "        print 'Response code not 200 for %s' % url\n",
    "        return None\n",
    "\n",
    "def fuzzy_match(a, names):\n",
    "    lower = unicode.lower\n",
    "    strlower = str.lower\n",
    "    if a == names[0]:\n",
    "        return 0\n",
    "    if strlower(a) == lower(names[0]):\n",
    "        return 0\n",
    "    best = max([(fuzz.ratio(a, n),n) for n in names])\n",
    "    if best[0]>0.7:\n",
    "        return names.index(best[1])\n",
    "    else:\n",
    "        return -1\n",
    "    \n",
    "    \n",
    "def spotify_artist(query):\n",
    "    q = '+'.join(query.split()).strip()\n",
    "    url = \"https://api.spotify.com/v1/search?q=%s&type=artist\" % q\n",
    "    results = get_json(url)['artists']['items']\n",
    "    if results != []:\n",
    "        names = [r['name'] for  r in results]\n",
    "        index = fuzzy_match(query, names)\n",
    "        if index != -1:\n",
    "            return results[index]\n",
    "    else:\n",
    "        return None\n",
    "\n",
    "    \n",
    "\n",
    "def extract_country(text):\n",
    "    try:\n",
    "        words = word_tokenize(text)\n",
    "    except:\n",
    "        words = word_tokenize(text.decode('utf8'))\n",
    "    pos = pos_tag(words)\n",
    "    pronouns = [a for (a, b) in pos if b == 'NNP' or b =='NNPS' or b == 'NN' or b == 'JJ']\n",
    "    pronouns.reverse()\n",
    "    countries_seen=[]\n",
    "    query = ''\n",
    "    while pronouns:\n",
    "        query = ' '.join([query,pronouns.pop()]).strip()\n",
    "\n",
    "        if query in country_keys:\n",
    "            countries_seen.append(country_names[query])\n",
    "        else:\n",
    "            if query not in likely_keys:\n",
    "                if len(query.split(' '))==1:\n",
    "                    query = ''\n",
    "                else:\n",
    "                    pronouns.append(query.split(' ')[-1])\n",
    "\n",
    "                    query = ''\n",
    "    return Counter([name for (name,latlang) in countries_seen]).most_common()\n",
    "\n",
    "def echo_artist(spotify_artist_id):\n",
    "    url = 'http://developer.echonest.com/api/v4/artist/profile?\\\n",
    "api_key=%s&id=spotify:artist:%s&bucket=biographies' % (secret.apikey(), spotify_artist_id)\n",
    "    response = get_json(url)['response']\n",
    "    if response['status']['code'] == 0: \n",
    "        return response['artist']\n",
    "    return None\n",
    "\n",
    "\n",
    "        \n",
    "        \n",
    "def echo_country(biographies):\n",
    "    if biographies != []:\n",
    "        bios = [b['text'] for b in biographies]\n",
    "        try:\n",
    "            sentences = [' '.join(sent_tokenize(b.decode('utf8'))[:3]) for b in bios]\n",
    "        except:\n",
    "            sentences = [' '.join(sent_tokenize(b)[:3]) for b in bios]\n",
    "        text = ' '.join(sentences)\n",
    "\n",
    "        return extract_country(text)\n",
    "    else:\n",
    "        return biographies\n",
    "\n",
    "            "
   ]
  },
  {
   "cell_type": "code",
   "execution_count": 450,
   "metadata": {
    "collapsed": false,
    "scrolled": true
   },
   "outputs": [
    {
     "name": "stdout",
     "output_type": "stream",
     "text": [
      "{u'time_signature': 4, u'energy': 0.6220087746234382, u'liveness': 0.3700262537298555, u'tempo': 80.003, u'speechiness': 0.03344592280777209, u'acousticness': 0.008816917600021911, u'danceability': 0.6125644326649705, u'instrumentalness': 8.22981909495782e-09, u'key': 1, u'duration': 231.24, u'loudness': -5.794, u'valence': 0.47220227365181217, u'mode': 0}\n"
     ]
    }
   ],
   "source": [
    "def spotify_top_tracks(spotify_id):\n",
    "    try:\n",
    "        url = 'https://api.spotify.com/v1/artists/%s/top-tracks?country=US' % spotify_id\n",
    "        response = get_json(url)\n",
    "        if response['tracks']:\n",
    "            return response['tracks']\n",
    "        return None\n",
    "    except:\n",
    "        return None\n",
    "\n",
    "\n",
    "def echo_summary(spotify_track_id):\n",
    "    url = 'http://developer.echonest.com/api/v4/track/profile?api_key=%s\\\n",
    "&id=spotify:track:%s&bucket=audio_summary' % (secret.apikey(), spotify_track_id)\n",
    "    rate_limiter()\n",
    "    response = get_json(url)['response']\n",
    "    status = response['status']['code']\n",
    "    if status == 0:\n",
    "        return response['track']\n",
    "    else:\n",
    "        return None\n",
    "\n",
    "    \n",
    "def de(spotify_id):\n",
    "    response = spotify_top_tracks(spotify_id)\n",
    "    if response:\n",
    "        tracks = response\n",
    "        for track in tracks:\n",
    "            spotify_track_name = track['name']\n",
    "            spotify_track_id = track['id']\n",
    "            spotify_track_preview = track['preview_url']\n",
    "            spotify_track_explicit = track['explicit']\n",
    "            spotify_track_artists = [(a['id'],a['name']) for a in track['artists']]\n",
    "            spotify_track_duration = track['duration_ms']\n",
    "            e = echo_summary(spotify_track_id)\n",
    "            if e:\n",
    "                aud_sum = e['audio_summary']\n",
    "                print {s: aud_sum[s] for s in aud_sum if s != 'analysis_url'}\n",
    "                return\n",
    "            else:\n",
    "                nameq = '%20'.join(spotify_track_name.strip(' '))\n",
    "                'http://developer.echonest.com/api/v4/song/search?api_key=%s\\\n",
    "&format=json&results=1&artist%s&title=%s&bucket=audio_summary&bucket=artist_location' % (secret.apikey(), echo_id, nameq)\n",
    "\n",
    "de(spotify_artist('Miley Cyrus')['id'])\n",
    "\n",
    "\n",
    "# [u'status',\n",
    "#  u'song_id',\n",
    "#  u'title',\n",
    "#  u'foreign_ids',\n",
    "#  u'artist',\n",
    "#  u'foreign_release_ids',\n",
    "#  u'foreign_release_id',\n",
    "#  u'catalog',\n",
    "#  u'release',\n",
    "#  u'foreign_id',\n",
    "#  u'id',\n",
    "#  u'audio_summary']\n"
   ]
  },
  {
   "cell_type": "code",
   "execution_count": 431,
   "metadata": {
    "collapsed": false
   },
   "outputs": [],
   "source": [
    "echo_limit = 0\n",
    "def rate_limiter():\n",
    "    global echo_limit\n",
    "    echo_limit += 1\n",
    "    if echo_limit%119 == 0:\n",
    "        time.sleep(63)\n",
    "        \n",
    "def rate_reset():\n",
    "    global echo_limit\n",
    "    echo_limit = 0\n",
    "\n",
    "\n",
    "\n",
    "artists2013 = artists_wikipedia(2013)\n",
    "for artist in artists2013[:100]:\n",
    "    a = spotify_artist(artist)\n",
    "    if a is not None:\n",
    "        spotify_id = a['id']\n",
    "        spotify_name = a['name']\n",
    "        spotify_genres = a['genres']\n",
    "        spotify_popularity = a['popularity']\n",
    "        country = echo_country(spotify_id)\n",
    "        \n",
    "        rate_limiter()\n",
    "        if country != []:\n",
    "            \n",
    "    echo = echo_artist(spotify_artist_id)\n",
    "    if echo:\n",
    "        artist = echo['artist']\n",
    "        biographies = artist['biographies']\n",
    "        echo_artist_id = artist['id']\n",
    "        echo_artist_name = artist['name']\n",
    "    "
   ]
  },
  {
   "cell_type": "code",
   "execution_count": 457,
   "metadata": {
    "collapsed": false
   },
   "outputs": [],
   "source": [
    "# echo_country(spotify_artist('Bitter : Sweet')['id'])\n",
    "\n",
    "# url = 'https://www.putumayo.com/african-blues-9-7-15-9-13-15/'\n",
    "# artistsP = putumayo_artists(url, 5)"
   ]
  },
  {
   "cell_type": "code",
   "execution_count": null,
   "metadata": {
    "collapsed": false
   },
   "outputs": [],
   "source": []
  },
  {
   "cell_type": "code",
   "execution_count": 456,
   "metadata": {
    "collapsed": false
   },
   "outputs": [
    {
     "data": {
      "text/plain": [
       "u'5YGY8feqx7naU7z4HrwZM6'"
      ]
     },
     "execution_count": 456,
     "metadata": {},
     "output_type": "execute_result"
    }
   ],
   "source": [
    "spotify_artist('Miley Cyrus')['id']\n"
   ]
  },
  {
   "cell_type": "code",
   "execution_count": null,
   "metadata": {
    "collapsed": false
   },
   "outputs": [],
   "source": [
    "url = 'http://developer.echonest.com/api/v4/track/profile?api_key=%s\\\n",
    "&id=spotify:track:%s&bucket=audio_summary&bucket=artist_location' % (secret.apikey(), spotify_track_id)"
   ]
  },
  {
   "cell_type": "code",
   "execution_count": null,
   "metadata": {
    "collapsed": false
   },
   "outputs": [],
   "source": []
  },
  {
   "cell_type": "code",
   "execution_count": null,
   "metadata": {
    "collapsed": false
   },
   "outputs": [],
   "source": []
  },
  {
   "cell_type": "code",
   "execution_count": null,
   "metadata": {
    "collapsed": true
   },
   "outputs": [],
   "source": []
  }
 ],
 "metadata": {
  "kernelspec": {
   "display_name": "Python 2",
   "language": "python",
   "name": "python2"
  },
  "language_info": {
   "codemirror_mode": {
    "name": "ipython",
    "version": 2
   },
   "file_extension": ".py",
   "mimetype": "text/x-python",
   "name": "python",
   "nbconvert_exporter": "python",
   "pygments_lexer": "ipython2",
   "version": "2.7.10"
  }
 },
 "nbformat": 4,
 "nbformat_minor": 0
}
