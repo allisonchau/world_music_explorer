{
 "cells": [
  {
   "cell_type": "code",
   "execution_count": 3,
   "metadata": {
    "collapsed": true
   },
   "outputs": [],
   "source": [
    "'''This script contains functions to call Spotify and EchoNest APIs for various album and track data, given an artist. \n",
    "These are then stored into a database.\n",
    "\n",
    "'''\n",
    "\n",
    "import echonestkeys as secret\n",
    "import json\n",
    "import urllib2\n",
    "import time \n",
    "import requests\n",
    "\n",
    "\n",
    "import pandas as pd\n",
    "import numpy as np\n",
    "\n",
    "from fuzzywuzzy import fuzz, process\n"
   ]
  },
  {
   "cell_type": "code",
   "execution_count": 21,
   "metadata": {
    "collapsed": false
   },
   "outputs": [],
   "source": [
    "def get_json(url):\n",
    "    response = requests.get(url)\n",
    "    if response.status_code==200:\n",
    "        return json.loads(response.text)\n",
    "    else:\n",
    "        print 'Response code not 200 for %s' % url\n",
    "        return None\n",
    "\n",
    "def fuzzy_match(a, names):\n",
    "    lower = unicode.lower\n",
    "    strlower = str.lower\n",
    "    if a == names[0]:\n",
    "        return 0\n",
    "    if strlower(a) == lower(names[0]):\n",
    "        return 0\n",
    "    best = max([(fuzz.ratio(a, n),n) for n in names])\n",
    "    if best[0]>0.7:\n",
    "        return names.index(best[1])\n",
    "    else:\n",
    "        return -1\n",
    "\n",
    "    \n",
    "def spotify_artist(artist):\n",
    "    q = '+'.join(artist.split()).strip()\n",
    "    url = \"https://api.spotify.com/v1/search?q=%s&type=artist\" % q\n",
    "    results = get_json(url)['artists']['items']\n",
    "    if results != []:\n",
    "        names = [r['name'] for  r in results]\n",
    "        index = fuzzy_match(artist, names)\n",
    "        if index != -1:\n",
    "            return results[index]\n",
    "    else:\n",
    "        return None\n",
    "\n",
    "def spotify_albums(artist_id):\n",
    "    url = 'https://api.spotify.com/v1/artists/%s/albums?album_type=album&limit=50' % artist_id\n",
    "    albums = get_json(url)['items']\n",
    "    if albums!=[]:\n",
    "        return albums\n",
    "    print 'No albums for artist id %s' % artist_id\n",
    "    return None\n",
    "#     album_names = [album['name'] for album in albums]\n",
    "#     album_ids_dup = np.array([album['id'] for album in albums])\n",
    "\n",
    "#     inds = [album_names.index(a) for a in set(album_names)]\n",
    "#     album_ids = album_ids_dup[inds]\n",
    "#     return zip(set(album_names),album_ids)\n",
    "\n",
    "\n",
    "def spotify_tracks(album_id):\n",
    "    url = 'https://api.spotify.com/v1/albums/%s/tracks?limit=50' % album_id\n",
    "    tracks = get_json(url)['items']\n",
    "    if tracks != []:\n",
    "        return tracks \n",
    "    print 'No tracks for album id %s' % album_id\n",
    "    return None\n",
    "\n",
    "\n"
   ]
  },
  {
   "cell_type": "code",
   "execution_count": 19,
   "metadata": {
    "collapsed": false
   },
   "outputs": [],
   "source": [
    "def echo_summary(spotify_track_id):\n",
    "    url = 'http://developer.echonest.com/api/v4/track/profile?api_key=%s\\\n",
    "&id=spotify:track:%s&bucket=audio_summary' % (secret.apikey(), spotify_track_id)\n",
    "    echo = get_json(url)['response']\n",
    "    return echo\n"
   ]
  },
  {
   "cell_type": "code",
   "execution_count": 6,
   "metadata": {
    "collapsed": false
   },
   "outputs": [
    {
     "ename": "IndentationError",
     "evalue": "expected an indented block (<ipython-input-6-ea797ad016bd>, line 6)",
     "output_type": "error",
     "traceback": [
      "\u001b[0;36m  File \u001b[0;32m\"<ipython-input-6-ea797ad016bd>\"\u001b[0;36m, line \u001b[0;32m6\u001b[0m\n\u001b[0;31m    name = ar['name']\u001b[0m\n\u001b[0m       ^\u001b[0m\n\u001b[0;31mIndentationError\u001b[0m\u001b[0;31m:\u001b[0m expected an indented block\n"
     ]
    }
   ],
   "source": [
    "def artist_dictionary(query):\n",
    "    \n",
    "    ar = spotify_artist(query)\n",
    "    if ar is None:\n",
    "        \n",
    "    name = ar['name']\n",
    "    sp_id = ar['id']\n",
    "    genres = ar['genres']\n",
    "    popularity = ar['popularity']\n",
    "    \n",
    "    # Table of artists and albums\n",
    "    \n",
    "    albs = spotify_albums(sp_id)\n",
    "    \n",
    "    if albs is None:\n",
    "    \n",
    "    \n",
    "    for alb in albs:\n",
    "        alb_name = alb['name']\n",
    "        alb_id = alb['id']\n",
    "        \n",
    "        tracks = spotify_tracks(alb_id)\n",
    "        if tracks is None:\n",
    "        \n",
    "        for track in tracks:\n",
    "            tr_id = track['id']\n",
    "            tr_name = track['name']\n",
    "            tr_aud_sum = track['audio_summary']\n",
    "            \n",
    "            echo = echo_summary(tr_id)\n",
    "            if echo['code'] == 0:\n",
    "                echo[]\n",
    "                \n",
    "    \n",
    "    \n",
    "    \n",
    "    \n",
    "    \n",
    "    \n",
    "    \n",
    "    \n",
    "    \n",
    "    "
   ]
  },
  {
   "cell_type": "code",
   "execution_count": 26,
   "metadata": {
    "collapsed": false,
    "scrolled": true
   },
   "outputs": [],
   "source": [
    "import psycopg2"
   ]
  },
  {
   "cell_type": "code",
   "execution_count": null,
   "metadata": {
    "collapsed": false
   },
   "outputs": [],
   "source": []
  },
  {
   "cell_type": "code",
   "execution_count": null,
   "metadata": {
    "collapsed": false
   },
   "outputs": [],
   "source": []
  },
  {
   "cell_type": "code",
   "execution_count": null,
   "metadata": {
    "collapsed": false
   },
   "outputs": [],
   "source": []
  },
  {
   "cell_type": "code",
   "execution_count": null,
   "metadata": {
    "collapsed": true
   },
   "outputs": [],
   "source": []
  }
 ],
 "metadata": {
  "kernelspec": {
   "display_name": "Python 2",
   "language": "python",
   "name": "python2"
  },
  "language_info": {
   "codemirror_mode": {
    "name": "ipython",
    "version": 2
   },
   "file_extension": ".py",
   "mimetype": "text/x-python",
   "name": "python",
   "nbconvert_exporter": "python",
   "pygments_lexer": "ipython2",
   "version": "2.7.10"
  }
 },
 "nbformat": 4,
 "nbformat_minor": 0
}
