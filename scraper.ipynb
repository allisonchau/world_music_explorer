{
 "cells": [
  {
   "cell_type": "code",
   "execution_count": 43,
   "metadata": {
    "collapsed": false
   },
   "outputs": [],
   "source": [
    "'''This script contains functions to scrape certain sites for artists to feed into caller.py\n",
    "\n",
    "artists_wikipedia(year)\n",
    "    gives a sorted list of artists that released an album in the given 'year' parameter.\n",
    "\n",
    "\n",
    "'''\n",
    "import pandas as pd\n",
    "\n",
    "from bs4 import BeautifulSoup\n",
    "import requests\n",
    "import html5lib\n",
    "import fuzzywuzzy\n",
    "\n",
    "def get_soup(url):\n",
    "    response = requests.get(url) \n",
    "    soup = None\n",
    "    if response.status_code == 200:\n",
    "        page = response.text\n",
    "        soup = BeautifulSoup(page, 'html5lib')\n",
    "    else:\n",
    "        print 'Unresponsive. Trying Again...'\n",
    "        time.sleep(0.5)\n",
    "        return get_soup(url)\n",
    "    return soup\n",
    "\n",
    "def wiki_yearly_albums(year):\n",
    "    soup = get_soup('https://en.wikipedia.org/wiki/List_of_%d_albums' % (year))\n",
    "    tables = soup.find_all('table', attrs={'wikitable'})\n",
    "    df = pd.DataFrame()\n",
    "    for table in tables:\n",
    "        date = ' '.join(table.find('td').text.splitlines())\n",
    "        header = False\n",
    "        for tr in table('tr'):\n",
    "            \n",
    "            first = tr.find('td')\n",
    "            text = first.text.splitlines() if (first is not None) else 'heading'\n",
    "            if text is not 'heading':\n",
    "                row = []\n",
    "                if len(text) == 2:\n",
    "                    date = ' '.join(text)\n",
    "                    row.append(date)\n",
    "                    for cell in tr.find_all('td'):\n",
    "                        if ' '.join(cell.text.splitlines())!=date:\n",
    "                            row.append(cell.text)\n",
    "                else:\n",
    "                    row.append(date)\n",
    "                    for cell in tr.find_all('td'):\n",
    "                        row.append(cell.text)\n",
    "                \n",
    "                if len(row)==7:\n",
    "                    row.pop()\n",
    "                    df = df.append(pd.Series(row),ignore_index=True)\n",
    "    return df\n",
    "\n",
    "def artists_wikipedia(year):\n",
    "    return sorted(set(wiki_yearly_albums(year)[1]))"
   ]
  },
  {
   "cell_type": "code",
   "execution_count": 46,
   "metadata": {
    "collapsed": false
   },
   "outputs": [],
   "source": [
    "def country_adjectives():\n",
    "    soup = get_soup('https://en.wikipedia.org/wiki/List_of_adjectival_and_demonymic_forms_for_countries_and_nations')\n",
    "    table = soup.find('table')\n",
    "    countries={}\n",
    "    rows = table.find_all('tr')\n",
    "    for row in rows:\n",
    "        if row.find('td')!= None:\n",
    "            cells = row.find_all('td')\n",
    "            country = []\n",
    "            name = cells[0].text.split('[')[0].split('(')[0].replace('\"','')\n",
    "            for i in range(1,len(cells)):\n",
    "                if cells[i] != None:\n",
    "                    norm = cells[i].text.split('[')[0].split('(')[0].replace('\"','').split(',')\n",
    "                    for n in norm:\n",
    "                        slash = len(n.split('/')) != 1\n",
    "                        wordor = len(n.split(' or '))!=1\n",
    "                        if (not slash) and (not wordor):\n",
    "                            country.append(n)\n",
    "                        elif slash and wordor:\n",
    "                            for p in n.split('/'):\n",
    "                                for m in p.split(' or '):\n",
    "                                    country.append(m)\n",
    "                        elif slash:\n",
    "                            for p in n.split('/'):\n",
    "                                country.append(p)\n",
    "                        elif wordor:\n",
    "                            for p in n.split(' or '):\n",
    "                                country.append(p)\n",
    "            countries[name] = country\n",
    "    return countries"
   ]
  },
  {
   "cell_type": "code",
   "execution_count": 171,
   "metadata": {
    "collapsed": false
   },
   "outputs": [],
   "source": [
    "def putumayo_page(url):\n",
    "    soup = get_soup(url)\n",
    "    table = soup.find('table')\n",
    "    df = pd.DataFrame()\n",
    "    rows = table.find_all('tr')\n",
    "    cols=[]\n",
    "    for row in rows:\n",
    "        empt = row.find('td').text\n",
    "        print isinstance(row.find('td').text,unicode)\n",
    "        if empt == u'\\xa0' or empt == '' or empt == ' ' or empt =='\\t':\n",
    "            cells = row.find_all('td')\n",
    "            cols = [c.text for c in cells]\n",
    "        else:\n",
    "            cells = row.find_all('td')\n",
    "            df = df.append(pd.Series([c.text for c in cells]), ignore_index=True)\n",
    "\n",
    "    df.columns = cols\n",
    "    putumayo = {a:c for (a, c) in zip(df['ARTIST'],df['COUNTRY'])}\n",
    "    nexturl = soup.find(\"div\", { \"class\" : \"nav-prev fl\" }).a.get('href')\n",
    "\n",
    "    return (putumayo, nexturl)\n",
    "    \n",
    "    \n",
    "def putumayo_artists(start_url,pages):\n",
    "    putumayo = {}\n",
    "    url = start_url\n",
    "    for i in range(pages):\n",
    "        try:\n",
    "            result = putumayo_page(url)\n",
    "        except:\n",
    "#             print 'round ',i\n",
    "            raise Exception(url)\n",
    "        putumayo.update(result[0])\n",
    "\n",
    "        url=result[1]\n",
    "    return putumayo\n"
   ]
  },
  {
   "cell_type": "code",
   "execution_count": 157,
   "metadata": {
    "collapsed": false
   },
   "outputs": [
    {
     "name": "stdout",
     "output_type": "stream",
     "text": [
      "round  6\n"
     ]
    },
    {
     "ename": "Exception",
     "evalue": "https://www.putumayo.com/portuguese-around-the-world-7-27-15-8-2-15/",
     "output_type": "error",
     "traceback": [
      "\u001b[0;31m---------------------------------------------------------------------------\u001b[0m",
      "\u001b[0;31mException\u001b[0m                                 Traceback (most recent call last)",
      "\u001b[0;32m<ipython-input-157-1996b98ac817>\u001b[0m in \u001b[0;36m<module>\u001b[0;34m()\u001b[0m\n\u001b[1;32m      1\u001b[0m \u001b[0murl\u001b[0m \u001b[0;34m=\u001b[0m \u001b[0;34m'https://www.putumayo.com/african-blues-9-7-15-9-13-15/'\u001b[0m\u001b[0;34m\u001b[0m\u001b[0m\n\u001b[0;32m----> 2\u001b[0;31m \u001b[0;32mprint\u001b[0m \u001b[0mputumayo_artists\u001b[0m\u001b[0;34m(\u001b[0m\u001b[0murl\u001b[0m\u001b[0;34m,\u001b[0m \u001b[0;36m15\u001b[0m\u001b[0;34m)\u001b[0m\u001b[0;34m\u001b[0m\u001b[0m\n\u001b[0m",
      "\u001b[0;32m<ipython-input-156-39ea1c31ac08>\u001b[0m in \u001b[0;36mputumayo_artists\u001b[0;34m(start_url, pages)\u001b[0m\n\u001b[1;32m     29\u001b[0m         \u001b[0;32mexcept\u001b[0m\u001b[0;34m:\u001b[0m\u001b[0;34m\u001b[0m\u001b[0m\n\u001b[1;32m     30\u001b[0m             \u001b[0;32mprint\u001b[0m \u001b[0;34m'round '\u001b[0m\u001b[0;34m,\u001b[0m\u001b[0mi\u001b[0m\u001b[0;34m\u001b[0m\u001b[0m\n\u001b[0;32m---> 31\u001b[0;31m             \u001b[0;32mraise\u001b[0m \u001b[0mException\u001b[0m\u001b[0;34m(\u001b[0m\u001b[0murl\u001b[0m\u001b[0;34m)\u001b[0m\u001b[0;34m\u001b[0m\u001b[0m\n\u001b[0m\u001b[1;32m     32\u001b[0m         \u001b[0mputumayo\u001b[0m\u001b[0;34m.\u001b[0m\u001b[0mupdate\u001b[0m\u001b[0;34m(\u001b[0m\u001b[0mresult\u001b[0m\u001b[0;34m[\u001b[0m\u001b[0;36m0\u001b[0m\u001b[0;34m]\u001b[0m\u001b[0;34m)\u001b[0m\u001b[0;34m\u001b[0m\u001b[0m\n\u001b[1;32m     33\u001b[0m \u001b[0;34m\u001b[0m\u001b[0m\n",
      "\u001b[0;31mException\u001b[0m: https://www.putumayo.com/portuguese-around-the-world-7-27-15-8-2-15/"
     ]
    }
   ],
   "source": [
    "url = 'https://www.putumayo.com/african-blues-9-7-15-9-13-15/'\n",
    "print putumayo_artists(url, 5)"
   ]
  },
  {
   "cell_type": "code",
   "execution_count": 172,
   "metadata": {
    "collapsed": false
   },
   "outputs": [
    {
     "name": "stdout",
     "output_type": "stream",
     "text": [
      "True\n",
      "True\n",
      "True\n",
      "True\n",
      "True\n",
      "True\n",
      "True\n",
      "True\n",
      "True\n",
      "True\n",
      "True\n",
      "True\n",
      "True\n",
      "True\n",
      "True\n"
     ]
    },
    {
     "ename": "ValueError",
     "evalue": "Length mismatch: Expected axis has 7 elements, new values have 0 elements",
     "output_type": "error",
     "traceback": [
      "\u001b[0;31m---------------------------------------------------------------------------\u001b[0m",
      "\u001b[0;31mValueError\u001b[0m                                Traceback (most recent call last)",
      "\u001b[0;32m<ipython-input-172-06dc45f72d0f>\u001b[0m in \u001b[0;36m<module>\u001b[0;34m()\u001b[0m\n\u001b[0;32m----> 1\u001b[0;31m \u001b[0mputumayo_page\u001b[0m\u001b[0;34m(\u001b[0m\u001b[0;34m'https://www.putumayo.com/portuguese-around-the-world-7-27-15-8-2-15/'\u001b[0m\u001b[0;34m)\u001b[0m\u001b[0;34m\u001b[0m\u001b[0m\n\u001b[0m",
      "\u001b[0;32m<ipython-input-171-994b44845d76>\u001b[0m in \u001b[0;36mputumayo_page\u001b[0;34m(url)\u001b[0m\n\u001b[1;32m     15\u001b[0m             \u001b[0mdf\u001b[0m \u001b[0;34m=\u001b[0m \u001b[0mdf\u001b[0m\u001b[0;34m.\u001b[0m\u001b[0mappend\u001b[0m\u001b[0;34m(\u001b[0m\u001b[0mpd\u001b[0m\u001b[0;34m.\u001b[0m\u001b[0mSeries\u001b[0m\u001b[0;34m(\u001b[0m\u001b[0;34m[\u001b[0m\u001b[0mc\u001b[0m\u001b[0;34m.\u001b[0m\u001b[0mtext\u001b[0m \u001b[0;32mfor\u001b[0m \u001b[0mc\u001b[0m \u001b[0;32min\u001b[0m \u001b[0mcells\u001b[0m\u001b[0;34m]\u001b[0m\u001b[0;34m)\u001b[0m\u001b[0;34m,\u001b[0m \u001b[0mignore_index\u001b[0m\u001b[0;34m=\u001b[0m\u001b[0mTrue\u001b[0m\u001b[0;34m)\u001b[0m\u001b[0;34m\u001b[0m\u001b[0m\n\u001b[1;32m     16\u001b[0m \u001b[0;34m\u001b[0m\u001b[0m\n\u001b[0;32m---> 17\u001b[0;31m     \u001b[0mdf\u001b[0m\u001b[0;34m.\u001b[0m\u001b[0mcolumns\u001b[0m \u001b[0;34m=\u001b[0m \u001b[0mcols\u001b[0m\u001b[0;34m\u001b[0m\u001b[0m\n\u001b[0m\u001b[1;32m     18\u001b[0m     \u001b[0mputumayo\u001b[0m \u001b[0;34m=\u001b[0m \u001b[0;34m{\u001b[0m\u001b[0ma\u001b[0m\u001b[0;34m:\u001b[0m\u001b[0mc\u001b[0m \u001b[0;32mfor\u001b[0m \u001b[0;34m(\u001b[0m\u001b[0ma\u001b[0m\u001b[0;34m,\u001b[0m \u001b[0mc\u001b[0m\u001b[0;34m)\u001b[0m \u001b[0;32min\u001b[0m \u001b[0mzip\u001b[0m\u001b[0;34m(\u001b[0m\u001b[0mdf\u001b[0m\u001b[0;34m[\u001b[0m\u001b[0;34m'ARTIST'\u001b[0m\u001b[0;34m]\u001b[0m\u001b[0;34m,\u001b[0m\u001b[0mdf\u001b[0m\u001b[0;34m[\u001b[0m\u001b[0;34m'COUNTRY'\u001b[0m\u001b[0;34m]\u001b[0m\u001b[0;34m)\u001b[0m\u001b[0;34m}\u001b[0m\u001b[0;34m\u001b[0m\u001b[0m\n\u001b[1;32m     19\u001b[0m     \u001b[0mnexturl\u001b[0m \u001b[0;34m=\u001b[0m \u001b[0msoup\u001b[0m\u001b[0;34m.\u001b[0m\u001b[0mfind\u001b[0m\u001b[0;34m(\u001b[0m\u001b[0;34m\"div\"\u001b[0m\u001b[0;34m,\u001b[0m \u001b[0;34m{\u001b[0m \u001b[0;34m\"class\"\u001b[0m \u001b[0;34m:\u001b[0m \u001b[0;34m\"nav-prev fl\"\u001b[0m \u001b[0;34m}\u001b[0m\u001b[0;34m)\u001b[0m\u001b[0;34m.\u001b[0m\u001b[0ma\u001b[0m\u001b[0;34m.\u001b[0m\u001b[0mget\u001b[0m\u001b[0;34m(\u001b[0m\u001b[0;34m'href'\u001b[0m\u001b[0;34m)\u001b[0m\u001b[0;34m\u001b[0m\u001b[0m\n",
      "\u001b[0;32m/Users/home/.pyenv/versions/anaconda-2.3.0/lib/python2.7/site-packages/pandas/core/generic.pyc\u001b[0m in \u001b[0;36m__setattr__\u001b[0;34m(self, name, value)\u001b[0m\n\u001b[1;32m   2159\u001b[0m         \u001b[0;32mtry\u001b[0m\u001b[0;34m:\u001b[0m\u001b[0;34m\u001b[0m\u001b[0m\n\u001b[1;32m   2160\u001b[0m             \u001b[0mobject\u001b[0m\u001b[0;34m.\u001b[0m\u001b[0m__getattribute__\u001b[0m\u001b[0;34m(\u001b[0m\u001b[0mself\u001b[0m\u001b[0;34m,\u001b[0m \u001b[0mname\u001b[0m\u001b[0;34m)\u001b[0m\u001b[0;34m\u001b[0m\u001b[0m\n\u001b[0;32m-> 2161\u001b[0;31m             \u001b[0;32mreturn\u001b[0m \u001b[0mobject\u001b[0m\u001b[0;34m.\u001b[0m\u001b[0m__setattr__\u001b[0m\u001b[0;34m(\u001b[0m\u001b[0mself\u001b[0m\u001b[0;34m,\u001b[0m \u001b[0mname\u001b[0m\u001b[0;34m,\u001b[0m \u001b[0mvalue\u001b[0m\u001b[0;34m)\u001b[0m\u001b[0;34m\u001b[0m\u001b[0m\n\u001b[0m\u001b[1;32m   2162\u001b[0m         \u001b[0;32mexcept\u001b[0m \u001b[0mAttributeError\u001b[0m\u001b[0;34m:\u001b[0m\u001b[0;34m\u001b[0m\u001b[0m\n\u001b[1;32m   2163\u001b[0m             \u001b[0;32mpass\u001b[0m\u001b[0;34m\u001b[0m\u001b[0m\n",
      "\u001b[0;32mpandas/src/properties.pyx\u001b[0m in \u001b[0;36mpandas.lib.AxisProperty.__set__ (pandas/lib.c:42548)\u001b[0;34m()\u001b[0m\n",
      "\u001b[0;32m/Users/home/.pyenv/versions/anaconda-2.3.0/lib/python2.7/site-packages/pandas/core/generic.pyc\u001b[0m in \u001b[0;36m_set_axis\u001b[0;34m(self, axis, labels)\u001b[0m\n\u001b[1;32m    411\u001b[0m \u001b[0;34m\u001b[0m\u001b[0m\n\u001b[1;32m    412\u001b[0m     \u001b[0;32mdef\u001b[0m \u001b[0m_set_axis\u001b[0m\u001b[0;34m(\u001b[0m\u001b[0mself\u001b[0m\u001b[0;34m,\u001b[0m \u001b[0maxis\u001b[0m\u001b[0;34m,\u001b[0m \u001b[0mlabels\u001b[0m\u001b[0;34m)\u001b[0m\u001b[0;34m:\u001b[0m\u001b[0;34m\u001b[0m\u001b[0m\n\u001b[0;32m--> 413\u001b[0;31m         \u001b[0mself\u001b[0m\u001b[0;34m.\u001b[0m\u001b[0m_data\u001b[0m\u001b[0;34m.\u001b[0m\u001b[0mset_axis\u001b[0m\u001b[0;34m(\u001b[0m\u001b[0maxis\u001b[0m\u001b[0;34m,\u001b[0m \u001b[0mlabels\u001b[0m\u001b[0;34m)\u001b[0m\u001b[0;34m\u001b[0m\u001b[0m\n\u001b[0m\u001b[1;32m    414\u001b[0m         \u001b[0mself\u001b[0m\u001b[0;34m.\u001b[0m\u001b[0m_clear_item_cache\u001b[0m\u001b[0;34m(\u001b[0m\u001b[0;34m)\u001b[0m\u001b[0;34m\u001b[0m\u001b[0m\n\u001b[1;32m    415\u001b[0m \u001b[0;34m\u001b[0m\u001b[0m\n",
      "\u001b[0;32m/Users/home/.pyenv/versions/anaconda-2.3.0/lib/python2.7/site-packages/pandas/core/internals.pyc\u001b[0m in \u001b[0;36mset_axis\u001b[0;34m(self, axis, new_labels)\u001b[0m\n\u001b[1;32m   2217\u001b[0m         \u001b[0;32mif\u001b[0m \u001b[0mnew_len\u001b[0m \u001b[0;34m!=\u001b[0m \u001b[0mold_len\u001b[0m\u001b[0;34m:\u001b[0m\u001b[0;34m\u001b[0m\u001b[0m\n\u001b[1;32m   2218\u001b[0m             raise ValueError('Length mismatch: Expected axis has %d elements, '\n\u001b[0;32m-> 2219\u001b[0;31m                              'new values have %d elements' % (old_len, new_len))\n\u001b[0m\u001b[1;32m   2220\u001b[0m \u001b[0;34m\u001b[0m\u001b[0m\n\u001b[1;32m   2221\u001b[0m         \u001b[0mself\u001b[0m\u001b[0;34m.\u001b[0m\u001b[0maxes\u001b[0m\u001b[0;34m[\u001b[0m\u001b[0maxis\u001b[0m\u001b[0;34m]\u001b[0m \u001b[0;34m=\u001b[0m \u001b[0mnew_labels\u001b[0m\u001b[0;34m\u001b[0m\u001b[0m\n",
      "\u001b[0;31mValueError\u001b[0m: Length mismatch: Expected axis has 7 elements, new values have 0 elements"
     ]
    }
   ],
   "source": [
    "putumayo_page('https://www.putumayo.com/portuguese-around-the-world-7-27-15-8-2-15/')"
   ]
  },
  {
   "cell_type": "code",
   "execution_count": null,
   "metadata": {
    "collapsed": false
   },
   "outputs": [],
   "source": []
  },
  {
   "cell_type": "code",
   "execution_count": null,
   "metadata": {
    "collapsed": false
   },
   "outputs": [],
   "source": []
  },
  {
   "cell_type": "code",
   "execution_count": null,
   "metadata": {
    "collapsed": true
   },
   "outputs": [],
   "source": []
  }
 ],
 "metadata": {
  "kernelspec": {
   "display_name": "Python 2",
   "language": "python",
   "name": "python2"
  },
  "language_info": {
   "codemirror_mode": {
    "name": "ipython",
    "version": 2
   },
   "file_extension": ".py",
   "mimetype": "text/x-python",
   "name": "python",
   "nbconvert_exporter": "python",
   "pygments_lexer": "ipython2",
   "version": "2.7.10"
  }
 },
 "nbformat": 4,
 "nbformat_minor": 0
}
